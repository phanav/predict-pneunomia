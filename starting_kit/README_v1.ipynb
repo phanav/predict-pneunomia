{
 "cells": [
  {
   "cell_type": "markdown",
   "metadata": {
    "id": "uioyPhAkB2fq"
   },
   "source": [
    "<div style=\"background:#FFFFAA\">\n",
    "<img src=\"logo.jpg\", width=150, ALIGN=\"left\", border=20>\n",
    "<h1>Sample Starting Kit </h1>\n",
    "    <span style=\"color:red\"> <h1> Keep all code below **yellow** text blocks, </h1> </span>\n",
    "    <span style=\"color:red\"> <h1> but check that it works (you can ADD not remove). </h1> </span>\n",
    "    <span style=\"color:red\"> <h1> Customize Section (1) and modify the explanations.</h1> </span>\n",
    "\n",
    "<br>This code was tested with <br>\n",
    "Python 3.8.5 |Anaconda custom (64-bit)| (default, Sep  4 2020, 02:22:02) (https://anaconda.org/)<br>\n",
    "<i> Adapted for original code of Balázs Kégl</i> <br>\n",
    "</center>\n",
    "<p>\n",
    "ALL INFORMATION, SOFTWARE, DOCUMENTATION, AND DATA ARE PROVIDED \"AS-IS\". The CHALEARN, AND/OR OTHER ORGANIZERS OR CODE AUTHORS DISCLAIM ANY EXPRESSED OR IMPLIED WARRANTIES, INCLUDING, BUT NOT LIMITED TO, THE IMPLIED WARRANTIES OF MERCHANTABILITY AND FITNESS FOR ANY PARTICULAR PURPOSE, AND THE WARRANTY OF NON-INFRIGEMENT OF ANY THIRD PARTY'S INTELLECTUAL PROPERTY RIGHTS. IN NO EVENT SHALL AUTHORS AND ORGANIZERS BE LIABLE FOR ANY SPECIAL, \n",
    "INDIRECT OR CONSEQUENTIAL DAMAGES OR ANY DAMAGES WHATSOEVER ARISING OUT OF OR IN CONNECTION WITH THE USE OR PERFORMANCE OF SOFTWARE, DOCUMENTS, MATERIALS, PUBLICATIONS, OR INFORMATION MADE AVAILABLE FOR THE CHALLENGE. \n",
    "</div>"
   ]
  },
  {
   "cell_type": "markdown",
   "metadata": {
    "id": "NAEhNSHzB2f3"
   },
   "source": [
    "The original task is localizing lung opacity region. We will adapt the data for binary classification, lung opacity (sign of pneumonia) vs normal (healthy).\n",
    "\n",
    "In the original data, lung opacity is labeled as positive (=1). The negative class (=0) contains both normal and no lung opacity but abnormal (i.e other types of anomalies such as nodule, mass or undefined).\n"
   ]
  },
  {
   "cell_type": "code",
   "execution_count": 1,
   "metadata": {
    "id": "afmNuWOVB2f6"
   },
   "outputs": [],
   "source": [
    "model_dir = 'sample_code_submission/'                        # Change the model to a better one once you have one!\n",
    "#model_dir = '../FILES/pretty_good_sample_code_submission/'\n",
    "result_dir = 'sample_result_submission/' \n",
    "problem_dir = 'ingestion_program/'  \n",
    "score_dir = 'scoring_program/'\n",
    "from sys import path; path.append(model_dir); path.append(problem_dir); path.append(score_dir); \n",
    "%matplotlib inline\n",
    "# Uncomment the next lines to auto-reload libraries (this causes some problem with pickles in Python 3)\n",
    "%load_ext autoreload\n",
    "%autoreload 2\n",
    "import seaborn as sns; sns.set()\n",
    "import warnings\n",
    "warnings.simplefilter(action='ignore', category=FutureWarning)"
   ]
  },
  {
   "cell_type": "markdown",
   "metadata": {
    "id": "wz6E2y_wB2f8"
   },
   "source": [
    "<div style=\"background:#FFFFAA\">\n",
    "    <h1> Step 1: Exploratory data analysis </h1>\n",
    "<p>\n",
    "We provide sample_data with the starting kit, but to prepare your submission, you must fetch the public_data from the challenge website and point to it.\n",
    "    <br>\n",
    "    <span style=\"color:red\"> Just change the data name in the block below. In the rest of the section, replace the sample plots by anything you want. </span>\n",
    "</div>"
   ]
  },
  {
   "cell_type": "code",
   "execution_count": 2,
   "metadata": {
    "colab": {
     "base_uri": "https://localhost:8080/"
    },
    "id": "1t3UBrjbB2f9",
    "outputId": "01204e2c-3457-42ab-f8b2-e14f22925f8e"
   },
   "outputs": [
    {
     "name": "stdout",
     "output_type": "stream",
     "text": [
      "ls: cannot access 'sample_data*': No such file or directory\r\n"
     ]
    }
   ],
   "source": [
    "data_dir = 'sample_data'              # Change this to the directory where you put the input data\n",
    "#data_dir = '../FILES/iris/'          # The sample_data directory should contain only a very small subset of the data\n",
    "data_name = 'Hygieia'\n",
    "!ls $data_dir*"
   ]
  },
  {
   "cell_type": "markdown",
   "metadata": {
    "id": "_J6FLRWZB2gA"
   },
   "source": [
    "For convenience, we load the data as a \"pandas\" data frame, so we can use \"pandas\" and \"seaborn\" built in functions to explore the data."
   ]
  },
  {
   "cell_type": "code",
   "execution_count": 3,
   "metadata": {
    "colab": {
     "base_uri": "https://localhost:8080/"
    },
    "id": "dh4SJlSpB2gB",
    "outputId": "97d30851-68e9-4f9a-a4df-1f5e856f387a"
   },
   "outputs": [
    {
     "ename": "ModuleNotFoundError",
     "evalue": "No module named 'data_io'",
     "output_type": "error",
     "traceback": [
      "\u001b[0;31m---------------------------------------------------------------------------\u001b[0m",
      "\u001b[0;31mModuleNotFoundError\u001b[0m                       Traceback (most recent call last)",
      "\u001b[0;32m<ipython-input-3-2ccd556f68c0>\u001b[0m in \u001b[0;36m<module>\u001b[0;34m\u001b[0m\n\u001b[0;32m----> 1\u001b[0;31m \u001b[0;32mfrom\u001b[0m \u001b[0mdata_io\u001b[0m \u001b[0;32mimport\u001b[0m \u001b[0mread_as_df\u001b[0m\u001b[0;34m\u001b[0m\u001b[0;34m\u001b[0m\u001b[0m\n\u001b[0m\u001b[1;32m      2\u001b[0m \u001b[0mdata\u001b[0m \u001b[0;34m=\u001b[0m \u001b[0mread_as_df\u001b[0m\u001b[0;34m(\u001b[0m\u001b[0mdata_dir\u001b[0m  \u001b[0;34m+\u001b[0m \u001b[0;34m'/'\u001b[0m \u001b[0;34m+\u001b[0m \u001b[0mdata_name\u001b[0m\u001b[0;34m)\u001b[0m                \u001b[0;31m# The data are loaded as a Pandas Data Frame\u001b[0m\u001b[0;34m\u001b[0m\u001b[0;34m\u001b[0m\u001b[0m\n",
      "\u001b[0;31mModuleNotFoundError\u001b[0m: No module named 'data_io'"
     ]
    }
   ],
   "source": [
    "from data_io import read_as_df\n",
    "data = read_as_df(data_dir  + '/' + data_name)                # The data are loaded as a Pandas Data Frame"
   ]
  },
  {
   "cell_type": "code",
   "execution_count": null,
   "metadata": {
    "colab": {
     "base_uri": "https://localhost:8080/",
     "height": 308
    },
    "id": "OKi8VTtGB2gC",
    "outputId": "bcce1eb8-84c9-46d4-8aa1-81a3c2478559"
   },
   "outputs": [],
   "source": [
    "data.head()"
   ]
  },
  {
   "cell_type": "code",
   "execution_count": null,
   "metadata": {
    "colab": {
     "base_uri": "https://localhost:8080/",
     "height": 350
    },
    "id": "6im0TO-XB2gF",
    "outputId": "55962573-4e50-438d-d523-84e9847bf85e"
   },
   "outputs": [],
   "source": [
    "data.describe() "
   ]
  },
  {
   "cell_type": "code",
   "execution_count": null,
   "metadata": {
    "colab": {
     "base_uri": "https://localhost:8080/"
    },
    "id": "yyKz2dqszpoH",
    "outputId": "c1765afd-a768-414a-a2d5-ca6ebf2c38c8"
   },
   "outputs": [],
   "source": [
    "data.info()"
   ]
  },
  {
   "cell_type": "code",
   "execution_count": null,
   "metadata": {
    "id": "3BMtsDViB2gG"
   },
   "outputs": [],
   "source": [
    "#data.hist(figsize=(10, 10), bins=50, layout=(3, 2))"
   ]
  },
  {
   "cell_type": "code",
   "execution_count": null,
   "metadata": {
    "id": "OKFcIkKMB2gH"
   },
   "outputs": [],
   "source": [
    "#sns.pairplot(data, hue=\"target\")"
   ]
  },
  {
   "cell_type": "code",
   "execution_count": null,
   "metadata": {
    "colab": {
     "base_uri": "https://localhost:8080/"
    },
    "id": "tbVq5RXLOFMe",
    "outputId": "be87821e-764a-4b56-ab54-5129a23f6ad7"
   },
   "outputs": [],
   "source": [
    "data[\"label\"]=data[\"target\"].map(lambda label:0 if label == \"Normal\" else 1)\n",
    "data.shape"
   ]
  },
  {
   "cell_type": "code",
   "execution_count": null,
   "metadata": {
    "id": "JvhQ89QKxJjZ"
   },
   "outputs": [],
   "source": [
    "import matplotlib.pyplot as plt\n",
    "import numpy as np\n",
    "from sklearn.decomposition import PCA"
   ]
  },
  {
   "cell_type": "code",
   "execution_count": null,
   "metadata": {
    "id": "yIv1ht7rzeQE"
   },
   "outputs": [],
   "source": [
    " pca = PCA()\n",
    " x_pca=pca.fit_transform(data.iloc[:,:-2])"
   ]
  },
  {
   "cell_type": "code",
   "execution_count": null,
   "metadata": {
    "colab": {
     "base_uri": "https://localhost:8080/"
    },
    "id": "xfLuR34Wwi50",
    "outputId": "443a417c-f0a8-4bfb-f815-4c94a61fd564"
   },
   "outputs": [],
   "source": [
    "print(pca.explained_variance_ratio_[:30])"
   ]
  },
  {
   "cell_type": "code",
   "execution_count": null,
   "metadata": {
    "id": "ME2i3n2TODbs"
   },
   "outputs": [],
   "source": []
  },
  {
   "cell_type": "code",
   "execution_count": null,
   "metadata": {
    "colab": {
     "base_uri": "https://localhost:8080/",
     "height": 272
    },
    "id": "NApltVScAm-C",
    "outputId": "3a8d7ff2-0682-469f-e399-4a057583fee0"
   },
   "outputs": [],
   "source": [
    "\n",
    "plt.scatter(x_pca[:,0], x_pca[:,1], c=data[\"label\"],cmap=\"viridis\")\n",
    "plt.colorbar()\n",
    "plt.show()"
   ]
  },
  {
   "cell_type": "code",
   "execution_count": null,
   "metadata": {
    "id": "-ToS84EJPskY"
   },
   "outputs": [],
   "source": [
    "xcorr = data.iloc[:,:-2].corr()"
   ]
  },
  {
   "cell_type": "code",
   "execution_count": null,
   "metadata": {
    "colab": {
     "base_uri": "https://localhost:8080/",
     "height": 363
    },
    "id": "zjFIRSqwNhMj",
    "outputId": "27c0234c-15ae-4c3d-b0c8-597533facd25"
   },
   "outputs": [],
   "source": [
    "\n",
    "desc_xcorr = xcorr.abs().unstack().sort_values(ascending = False)\n",
    "desc_xcorr = desc_xcorr.reset_index()\n",
    "desc_xcorr = desc_xcorr[(desc_xcorr.iloc[:, 0] != desc_xcorr.iloc[:, 1])]\n",
    "display(desc_xcorr.iloc[:10])"
   ]
  },
  {
   "cell_type": "markdown",
   "metadata": {
    "id": "DvYIUdfvB2gJ"
   },
   "source": [
    "<div style=\"background:#FFFFAA\">\n",
    "<h1>Step 2: Building a predictive model</h1>\n",
    "</div>"
   ]
  },
  {
   "cell_type": "markdown",
   "metadata": {
    "id": "zMVCRFudB2gK"
   },
   "source": [
    "<div style=\"background:#FFFFAA\">\n",
    "    <h2>Loading data with DataManager</h2>\n",
    "    <p>\n",
    "We reload the data with the AutoML DataManager class because this is more convenient:\n",
    "   <br>     <span style=\"color:red\"> Keep this, it illustrates how data in AutoML formal are loaded by the ingestion program </span>\n",
    "</div>"
   ]
  },
  {
   "cell_type": "code",
   "execution_count": null,
   "metadata": {
    "colab": {
     "base_uri": "https://localhost:8080/"
    },
    "id": "pgN2x-tNB2gK",
    "outputId": "29489390-e10b-443c-9335-21906bd31456"
   },
   "outputs": [],
   "source": [
    "from data_manager import DataManager\n",
    "D = DataManager(data_name, data_dir, replace_missing=True)\n",
    "print(D)"
   ]
  },
  {
   "cell_type": "code",
   "execution_count": null,
   "metadata": {
    "colab": {
     "base_uri": "https://localhost:8080/"
    },
    "id": "5nH-nwuZXRhD",
    "outputId": "f6c11128-5cab-4fd6-a03b-f4548ec1a00e"
   },
   "outputs": [],
   "source": [
    "D.data[\"Y_valid\"]"
   ]
  },
  {
   "cell_type": "markdown",
   "metadata": {
    "id": "Gze2NMvEB2gL"
   },
   "source": [
    "<div style=\"background:#FFFFAA\">\n",
    "    <h2>Training a predictive model</h2>\n",
    "    <p>\n",
    "We provide an example of predictive model (for classification or regression) in the `sample_code_submission/` directory. It is a quite stupid model: it makes constant predictions. Replace it with your own model.\n",
    "    </div>"
   ]
  },
  {
   "cell_type": "code",
   "execution_count": null,
   "metadata": {
    "id": "rGXBifafB2gL"
   },
   "outputs": [],
   "source": [
    "from data_io import write\n",
    "from model import model\n",
    "# Uncomment the next line to show the code of the model\n",
    "#??model "
   ]
  },
  {
   "cell_type": "markdown",
   "metadata": {
    "id": "3K4Ani_SB2gL"
   },
   "source": [
    "<div style=\"background:#FFFFAA\">\n",
    "an instance of the model (run the constructor) and attempt to reload a previously saved version from `sample_code_submission/`:\n",
    "    \n",
    "</div>"
   ]
  },
  {
   "cell_type": "code",
   "execution_count": null,
   "metadata": {
    "colab": {
     "base_uri": "https://localhost:8080/",
     "height": 548
    },
    "id": "lf4UCqimB2gM",
    "outputId": "5e943008-6e40-459f-a413-f3e454028831"
   },
   "outputs": [],
   "source": [
    "#M = model()\n",
    "#trained_model_name = model_dir + data_name\n",
    "# Uncomment the next line to re-load an already trained model\n",
    "#M = M.load(trained_model_name)             \n",
    "from sklearn.ensemble import RandomForestClassifier\n",
    "M = RandomForestClassifier(max_depth=5, random_state=0)\n",
    "M.fit(D.data['X_train'],D.data['Y_train'] )    \n",
    "data"
   ]
  },
  {
   "cell_type": "markdown",
   "metadata": {
    "id": "Q0LriFKtB2gM"
   },
   "source": [
    "<div style=\"background:#FFFFAA\">\n",
    "    Train the model (unless you reloaded a trained model) and make predictions. \n",
    "</div>"
   ]
  },
  {
   "cell_type": "code",
   "execution_count": null,
   "metadata": {
    "id": "0dV-Rye9B2gN"
   },
   "outputs": [],
   "source": [
    "#if not(M.is_trained):\n",
    "from sklearn.linear_model import LogisticRegression\n",
    "X_train = D.data['X_train']\n",
    "Y_train = D.data['Y_train']\n",
    "   # M.fit(X_train, Y_train)                     \n",
    "M=LogisticRegression(random_state=0)\n",
    "M.fit(D.data['X_train'],D.data['Y_train'])\n",
    "       \n",
    "Y_hat_train = M.predict(D.data['X_train']) # Optional, not really needed to test on taining examples\n",
    "Y_hat_valid = M.predict(D.data['X_valid'])\n",
    "Y_hat_test = M.predict(D.data['X_test'])\n"
   ]
  },
  {
   "cell_type": "code",
   "execution_count": null,
   "metadata": {
    "colab": {
     "base_uri": "https://localhost:8080/"
    },
    "id": "PXca5TiqWHGw",
    "outputId": "8de1417f-9962-4848-e7b7-3a8516baf74a"
   },
   "outputs": [],
   "source": [
    "D.data['Y_train'].shape"
   ]
  },
  {
   "cell_type": "markdown",
   "metadata": {
    "id": "Rp7sYshHB2gN"
   },
   "source": [
    "<div style=\"background:#FFFFAA\">\n",
    "    <b> Save the trained model </b> (will be ready to reload next time around) and save the prediction results. IMPORTANT: if you save the trained model, it will be bundled with your sample code submission. Therefore your model will NOT be retrained on the challenge platform. Remove the pickle from the submission if you want the model to be retrained on the platform.\n",
    "</div>"
   ]
  },
  {
   "cell_type": "code",
   "execution_count": null,
   "metadata": {
    "colab": {
     "base_uri": "https://localhost:8080/"
    },
    "id": "eZeOBFOKB2gN",
    "outputId": "4de08467-e69b-40bf-d877-8b8a4aef8b36"
   },
   "outputs": [],
   "source": [
    "#M.save(trained_model_name)                 \n",
    "result_name = result_dir + data_name\n",
    "from data_io import write\n",
    "write(result_name + '_train.predict', Y_hat_train)\n",
    "write(result_name + '_valid.predict', Y_hat_valid)\n",
    "write(result_name + '_test.predict', Y_hat_test)\n",
    "!ls $result_name*"
   ]
  },
  {
   "cell_type": "markdown",
   "metadata": {
    "id": "58GGEWcSB2gc"
   },
   "source": [
    "<div style=\"background:#FFFFAA\">\n",
    "    <h2>Scoring the results</h2>\n",
    "    <h3>Load the challenge metric</h3>\n",
    "    <p>\n",
    "<b>The metric chosen for your challenge</b> is identified in the \"metric.txt\" file found in the `scoring_function/` directory. The function \"get_metric\" searches first for a metric having that name in my_metric.py, then in libscores.py, then in sklearn.metric.\n",
    "    </div>"
   ]
  },
  {
   "cell_type": "code",
   "execution_count": null,
   "metadata": {
    "colab": {
     "base_uri": "https://localhost:8080/"
    },
    "id": "csM9_yAeB2gc",
    "outputId": "1b8a07e7-c702-47ba-b7c6-b8a7328187a3"
   },
   "outputs": [],
   "source": [
    "from libscores import get_metric\n",
    "metric_name, scoring_function = get_metric()\n",
    "print('Using scoring metric:', metric_name)\n",
    "# Uncomment the next line to display the code of the scoring metric\n",
    "#??scoring_function"
   ]
  },
  {
   "cell_type": "markdown",
   "metadata": {
    "id": "eGhAmfdjB2gd"
   },
   "source": [
    "<div style=\"background:#FFFFAA\">\n",
    "    <h3> Training performance </h3>\n",
    "    <p>\n",
    "The participants normally posess target values (labels) only for training examples (except for the sample data). We compute with the `example` metric the training score, which should be zero for perfect predictions.\n",
    "        </div>"
   ]
  },
  {
   "cell_type": "code",
   "execution_count": null,
   "metadata": {
    "colab": {
     "base_uri": "https://localhost:8080/"
    },
    "id": "paITRNchB2gd",
    "outputId": "a9a9c194-bf39-4a7c-c25d-311e5d750875"
   },
   "outputs": [],
   "source": [
    "print('Training score for the', metric_name, 'metric = %5.4f' % scoring_function(Y_train, Y_hat_train))\n",
    "print('Ideal score for the', metric_name, 'metric = %5.4f' % scoring_function(Y_train, Y_train))"
   ]
  },
  {
   "cell_type": "markdown",
   "metadata": {
    "id": "0O9UY7UNB2ge"
   },
   "source": [
    "You can add here other scores and result visualization."
   ]
  },
  {
   "cell_type": "code",
   "execution_count": null,
   "metadata": {
    "colab": {
     "base_uri": "https://localhost:8080/"
    },
    "id": "KO1SLqnsB2gf",
    "outputId": "4e2a36ad-ee44-4d05-b8c3-e02fc10a0998"
   },
   "outputs": [],
   "source": [
    "from sklearn.metrics import confusion_matrix\n",
    "confusion_matrix(Y_train, Y_hat_train)"
   ]
  },
  {
   "cell_type": "code",
   "execution_count": null,
   "metadata": {
    "colab": {
     "base_uri": "https://localhost:8080/",
     "height": 302
    },
    "id": "JfAmR9LKYYMu",
    "outputId": "ce73297a-e94c-4a87-cbbf-4cca91b41505"
   },
   "outputs": [],
   "source": [
    "from sklearn.metrics import plot_confusion_matrix\n",
    "\n",
    "plot_confusion_matrix(M, X_train, Y_train)  "
   ]
  },
  {
   "cell_type": "code",
   "execution_count": null,
   "metadata": {
    "colab": {
     "base_uri": "https://localhost:8080/",
     "height": 306
    },
    "id": "jECzNKvzeqLP",
    "outputId": "c263dfac-1dd6-41c5-f58c-c01f5641a030"
   },
   "outputs": [],
   "source": [
    "\n",
    "plot_confusion_matrix(M, D.data[\"X_valid\"], D.data[\"Y_valid\"])  "
   ]
  },
  {
   "cell_type": "code",
   "execution_count": null,
   "metadata": {
    "colab": {
     "base_uri": "https://localhost:8080/",
     "height": 306
    },
    "id": "L8UiCPU_fIVX",
    "outputId": "6321ff65-2b2b-4da5-ed30-5b71b324a7f3"
   },
   "outputs": [],
   "source": [
    "\n",
    "plot_confusion_matrix(M, D.data[\"X_test\"], D.data[\"Y_test\"])  "
   ]
  },
  {
   "cell_type": "markdown",
   "metadata": {
    "id": "AOoJWrYGB2gf"
   },
   "source": [
    "<div style=\"background:#FFFFAA\">\n",
    "    <h3>Cross-validation performance</h3>\n",
    "    <p>\n",
    "The participants do not have access to the labels Y_valid and Y_test to self-assess their validation and test performances. But training performance is not a good prediction of validation or test performance. Using cross-validation, the training data is split into multiple training/test folds, which allows participants to self-assess their model during development. The average CV result and 95% confidence interval is displayed.\n",
    "   </div>"
   ]
  },
  {
   "cell_type": "code",
   "execution_count": null,
   "metadata": {
    "colab": {
     "base_uri": "https://localhost:8080/"
    },
    "id": "wHfKqudVB2gf",
    "outputId": "9ce18e25-a17d-4e6d-d464-5499643b8490"
   },
   "outputs": [],
   "source": [
    "from sklearn.metrics import make_scorer\n",
    "from sklearn.model_selection import cross_val_score\n",
    "scores = cross_val_score(M, X_train, Y_train, cv=5, scoring=make_scorer(scoring_function))\n",
    "print('\\nCV score (95 perc. CI): %0.2f (+/- %0.2f)' % (scores.mean(), scores.std() * 2))"
   ]
  },
  {
   "cell_type": "markdown",
   "metadata": {
    "id": "8TV_1zV1B2gg"
   },
   "source": [
    "<div style=\"background:#FFFFAA\">\n",
    "<h1> Step 3: Making a submission </h1> \n",
    "\n",
    "<h2> Unit testing </h2> \n",
    "\n",
    "It is <b><span style=\"color:red\">important that you test your submission files before submitting them</span></b>. All you have to do to make a submission is modify the file <code>model.py</code> in the <code>sample_code_submission/</code> directory, then run this test to make sure everything works fine. This is the actual program that will be run on the server to test your submission. \n",
    "<br>\n",
    "Keep the sample code simple.\n",
    "</div>"
   ]
  },
  {
   "cell_type": "code",
   "execution_count": null,
   "metadata": {
    "colab": {
     "base_uri": "https://localhost:8080/"
    },
    "id": "Wz3IuHx6B2gg",
    "outputId": "cf82a00f-a801-4014-cf85-12a7b0bc102d",
    "scrolled": true
   },
   "outputs": [],
   "source": [
    "!source activate python3; python $problem_dir/ingestion.py $data_dir $result_dir $problem_dir $model_dir"
   ]
  },
  {
   "cell_type": "markdown",
   "metadata": {
    "id": "COPX0PbIB2gg"
   },
   "source": [
    "<div style=\"background:#FFFFAA\">\n",
    "Also test the scoring program:\n",
    "    </div>"
   ]
  },
  {
   "cell_type": "code",
   "execution_count": null,
   "metadata": {
    "colab": {
     "base_uri": "https://localhost:8080/"
    },
    "id": "1WDyBnnxB2gg",
    "outputId": "ec3a08c9-fc39-4158-a079-1388fabbcd9c"
   },
   "outputs": [],
   "source": [
    "scoring_output_dir = 'scoring_output'\n",
    "!source activate python3; python $score_dir/score.py $data_dir $result_dir $scoring_output_dir"
   ]
  },
  {
   "cell_type": "markdown",
   "metadata": {
    "collapsed": true,
    "id": "k7MJ24KvB2gh"
   },
   "source": [
    "<div style=\"background:#FFFFAA\">\n",
    "    <h1> Preparing the submission </h1>\n",
    "\n",
    "Zip the contents of `sample_code_submission/` (without the directory), or download the challenge public_data and run the command in the previous cell, after replacing sample_data by public_data.\n",
    "Then zip the contents of `sample_result_submission/` (without the directory).\n",
    "<b><span style=\"color:red\">Do NOT zip the data with your submissions</span></b>."
   ]
  },
  {
   "cell_type": "code",
   "execution_count": null,
   "metadata": {
    "colab": {
     "base_uri": "https://localhost:8080/"
    },
    "id": "rlQ-8CPSB2gh",
    "outputId": "ddd8db40-8eed-46d3-c863-ae262a5cdb1c"
   },
   "outputs": [],
   "source": [
    "import datetime \n",
    "from data_io import zipdir\n",
    "the_date = datetime.datetime.now().strftime(\"%y-%m-%d-%H-%M\")\n",
    "sample_code_submission = '../sample_code_submission_' + the_date + '.zip'\n",
    "sample_result_submission = '../sample_result_submission_' + the_date + '.zip'\n",
    "zipdir(sample_code_submission, model_dir)\n",
    "zipdir(sample_result_submission, result_dir)\n",
    "print(\"Submit one of these files:\\n\" + sample_code_submission + \"\\n\" + sample_result_submission)"
   ]
  },
  {
   "cell_type": "code",
   "execution_count": null,
   "metadata": {
    "id": "QIVVYfhjB2gi"
   },
   "outputs": [],
   "source": []
  }
 ],
 "metadata": {
  "colab": {
   "collapsed_sections": [],
   "name": "README v1.ipynb",
   "provenance": []
  },
  "kernelspec": {
   "display_name": "Python 3",
   "language": "python",
   "name": "python3"
  },
  "language_info": {
   "codemirror_mode": {
    "name": "ipython",
    "version": 3
   },
   "file_extension": ".py",
   "mimetype": "text/x-python",
   "name": "python",
   "nbconvert_exporter": "python",
   "pygments_lexer": "ipython3",
   "version": "3.7.6"
  }
 },
 "nbformat": 4,
 "nbformat_minor": 1
}
